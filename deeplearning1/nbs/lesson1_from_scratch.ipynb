{
 "cells": [
  {
   "cell_type": "markdown",
   "metadata": {},
   "source": [
    "# File structure scaffloding"
   ]
  },
  {
   "cell_type": "code",
   "execution_count": 1,
   "metadata": {
    "collapsed": false
   },
   "outputs": [
    {
     "data": {
      "text/plain": [
       "u'/home/ubuntu/git/courses/deeplearning1/nbs'"
      ]
     },
     "execution_count": 1,
     "metadata": {},
     "output_type": "execute_result"
    }
   ],
   "source": [
    "%pwd"
   ]
  },
  {
   "cell_type": "code",
   "execution_count": 2,
   "metadata": {
    "collapsed": false
   },
   "outputs": [],
   "source": [
    "import os, sys, shutil\n",
    "import numpy as np\n",
    "from glob import glob\n",
    "current_dir = os.getcwd()\n",
    "HOME_DIR = current_dir\n",
    "SOURCE_DIR = current_dir + '/data/source'\n",
    "DATA_DIR = current_dir + '/data/redux_from_scratch'"
   ]
  },
  {
   "cell_type": "code",
   "execution_count": 4,
   "metadata": {
    "collapsed": false
   },
   "outputs": [],
   "source": [
    "%rm -R $DATA_DIR\n",
    "%mkdir -p $DATA_DIR"
   ]
  },
  {
   "cell_type": "code",
   "execution_count": 5,
   "metadata": {
    "collapsed": true
   },
   "outputs": [],
   "source": [
    "alias unzip unzip"
   ]
  },
  {
   "cell_type": "code",
   "execution_count": 6,
   "metadata": {
    "collapsed": false
   },
   "outputs": [],
   "source": [
    "%unzip -q $SOURCE_DIR/test.zip -d $DATA_DIR\n",
    "%unzip -q $SOURCE_DIR/train.zip -d $DATA_DIR"
   ]
  },
  {
   "cell_type": "code",
   "execution_count": 7,
   "metadata": {
    "collapsed": false
   },
   "outputs": [
    {
     "name": "stdout",
     "output_type": "stream",
     "text": [
      "/home/ubuntu/git/courses/deeplearning1/nbs/data/redux_from_scratch\n"
     ]
    }
   ],
   "source": [
    "%cd $DATA_DIR\n",
    "%matplotlib inline"
   ]
  },
  {
   "cell_type": "code",
   "execution_count": 8,
   "metadata": {
    "collapsed": true
   },
   "outputs": [],
   "source": [
    "alias tree tree"
   ]
  },
  {
   "cell_type": "code",
   "execution_count": 9,
   "metadata": {
    "collapsed": false
   },
   "outputs": [
    {
     "name": "stdout",
     "output_type": "stream",
     "text": [
      "\u001b[01;34m.\u001b[00m\r\n",
      "|-- \u001b[01;34mtest\u001b[00m\r\n",
      "`-- \u001b[01;34mtrain\u001b[00m\r\n",
      "\r\n",
      "2 directories\r\n"
     ]
    }
   ],
   "source": [
    "%tree -d"
   ]
  },
  {
   "cell_type": "code",
   "execution_count": 10,
   "metadata": {
    "collapsed": false
   },
   "outputs": [],
   "source": [
    "%mkdir valid\n",
    "%mkdir results\n",
    "%mkdir -p sample/train\n",
    "%mkdir -p sample/valid\n",
    "%mkdir -p sample/test\n",
    "%mkdir -p sample/results\n",
    "%mkdir -p test/unknown\n"
   ]
  },
  {
   "cell_type": "code",
   "execution_count": 11,
   "metadata": {
    "collapsed": false
   },
   "outputs": [
    {
     "name": "stdout",
     "output_type": "stream",
     "text": [
      "/home/ubuntu/git/courses/deeplearning1/nbs/data/redux_from_scratch/train\n"
     ]
    }
   ],
   "source": [
    "%cd $DATA_DIR/train"
   ]
  },
  {
   "cell_type": "code",
   "execution_count": 12,
   "metadata": {
    "collapsed": false
   },
   "outputs": [],
   "source": [
    "import matplotlib.pyplot as plt\n",
    "import matplotlib.image as mpimg\n",
    "\n",
    "shuffled = np.random.permutation(glob('*.jpg'))\n",
    "# print(DATA_DIR + '/train/'+shuffled[0])\n",
    "# img=mpimg.imread(DATA_DIR + '/train/'+shuffled[0])\n",
    "# imgplot = plt.imshow(img)\n",
    "# plt.show()\n",
    "\n",
    "for i in range(2500): \n",
    "    #print(DATA_DIR + '/train/'+shuffled[i])\n",
    "    shutil.move(DATA_DIR + '/train/'+shuffled[i], DATA_DIR + '/valid')\n",
    "    \n",
    "    \n",
    "#shutil.move('$DATA_DIR/train', dst, copy_function=copy2)"
   ]
  },
  {
   "cell_type": "code",
   "execution_count": 13,
   "metadata": {
    "collapsed": false
   },
   "outputs": [],
   "source": [
    "shuffled = np.random.permutation(glob('*.jpg'))\n",
    "for i in range(250): \n",
    "    #print(DATA_DIR + '/train/'+shuffled[i])\n",
    "    shutil.move(DATA_DIR + '/train/'+shuffled[i], DATA_DIR + '/sample/train')\n",
    "    "
   ]
  },
  {
   "cell_type": "code",
   "execution_count": 14,
   "metadata": {
    "collapsed": false
   },
   "outputs": [
    {
     "name": "stdout",
     "output_type": "stream",
     "text": [
      "/home/ubuntu/git/courses/deeplearning1/nbs/data/redux_from_scratch/sample/train\n"
     ]
    }
   ],
   "source": [
    "%cd $DATA_DIR/sample/train"
   ]
  },
  {
   "cell_type": "code",
   "execution_count": 15,
   "metadata": {
    "collapsed": false
   },
   "outputs": [
    {
     "name": "stdout",
     "output_type": "stream",
     "text": [
      "/home/ubuntu/git/courses/deeplearning1/nbs/data/redux_from_scratch/train/cat.4162.jpg\n",
      "/home/ubuntu/git/courses/deeplearning1/nbs/data/redux_from_scratch/train/cat.10775.jpg\n",
      "/home/ubuntu/git/courses/deeplearning1/nbs/data/redux_from_scratch/train/cat.4067.jpg\n",
      "/home/ubuntu/git/courses/deeplearning1/nbs/data/redux_from_scratch/train/cat.5754.jpg\n",
      "/home/ubuntu/git/courses/deeplearning1/nbs/data/redux_from_scratch/train/dog.11882.jpg\n",
      "/home/ubuntu/git/courses/deeplearning1/nbs/data/redux_from_scratch/train/cat.1701.jpg\n",
      "/home/ubuntu/git/courses/deeplearning1/nbs/data/redux_from_scratch/train/cat.12300.jpg\n",
      "/home/ubuntu/git/courses/deeplearning1/nbs/data/redux_from_scratch/train/dog.12379.jpg\n",
      "/home/ubuntu/git/courses/deeplearning1/nbs/data/redux_from_scratch/train/cat.6791.jpg\n",
      "/home/ubuntu/git/courses/deeplearning1/nbs/data/redux_from_scratch/train/cat.10610.jpg\n",
      "/home/ubuntu/git/courses/deeplearning1/nbs/data/redux_from_scratch/train/dog.5869.jpg\n",
      "/home/ubuntu/git/courses/deeplearning1/nbs/data/redux_from_scratch/train/cat.6495.jpg\n",
      "/home/ubuntu/git/courses/deeplearning1/nbs/data/redux_from_scratch/train/dog.364.jpg\n",
      "/home/ubuntu/git/courses/deeplearning1/nbs/data/redux_from_scratch/train/cat.7773.jpg\n",
      "/home/ubuntu/git/courses/deeplearning1/nbs/data/redux_from_scratch/train/cat.10420.jpg\n",
      "/home/ubuntu/git/courses/deeplearning1/nbs/data/redux_from_scratch/train/dog.7602.jpg\n",
      "/home/ubuntu/git/courses/deeplearning1/nbs/data/redux_from_scratch/train/cat.1123.jpg\n",
      "/home/ubuntu/git/courses/deeplearning1/nbs/data/redux_from_scratch/train/dog.9839.jpg\n",
      "/home/ubuntu/git/courses/deeplearning1/nbs/data/redux_from_scratch/train/dog.1913.jpg\n",
      "/home/ubuntu/git/courses/deeplearning1/nbs/data/redux_from_scratch/train/cat.5721.jpg\n",
      "/home/ubuntu/git/courses/deeplearning1/nbs/data/redux_from_scratch/train/cat.10751.jpg\n",
      "/home/ubuntu/git/courses/deeplearning1/nbs/data/redux_from_scratch/train/dog.8384.jpg\n",
      "/home/ubuntu/git/courses/deeplearning1/nbs/data/redux_from_scratch/train/cat.4736.jpg\n",
      "/home/ubuntu/git/courses/deeplearning1/nbs/data/redux_from_scratch/train/cat.9087.jpg\n",
      "/home/ubuntu/git/courses/deeplearning1/nbs/data/redux_from_scratch/train/dog.10684.jpg\n"
     ]
    }
   ],
   "source": [
    "shuffled = np.random.permutation(glob('*.jpg'))\n",
    "for i in range(25): \n",
    "    #print(DATA_DIR + '/train/'+shuffled[i])\n",
    "    shutil.move(DATA_DIR + '/sample/train/'+shuffled[i], DATA_DIR + '/sample/valid')\n",
    "    "
   ]
  },
  {
   "cell_type": "markdown",
   "metadata": {},
   "source": [
    "Move cats and dogs in separate dir"
   ]
  },
  {
   "cell_type": "code",
   "execution_count": 16,
   "metadata": {
    "collapsed": false
   },
   "outputs": [
    {
     "name": "stdout",
     "output_type": "stream",
     "text": [
      "/home/ubuntu/git/courses/deeplearning1/nbs/data/redux_from_scratch/sample/train\n",
      "/home/ubuntu/git/courses/deeplearning1/nbs/data/redux_from_scratch/sample/valid\n",
      "/home/ubuntu/git/courses/deeplearning1/nbs/data/redux_from_scratch/valid\n",
      "/home/ubuntu/git/courses/deeplearning1/nbs/data/redux_from_scratch/train\n"
     ]
    }
   ],
   "source": [
    "%cd $DATA_DIR/sample/train\n",
    "%mkdir cats\n",
    "%mkdir dogs\n",
    "%mv cat.*.jpg cats/\n",
    "%mv dog.*.jpg dogs/\n",
    "\n",
    "%cd $DATA_DIR/sample/valid\n",
    "%mkdir cats\n",
    "%mkdir dogs\n",
    "%mv cat.*.jpg cats/\n",
    "%mv dog.*.jpg dogs/\n",
    "\n",
    "%cd $DATA_DIR/valid\n",
    "%mkdir cats\n",
    "%mkdir dogs\n",
    "%mv cat.*.jpg cats/\n",
    "%mv dog.*.jpg dogs/\n",
    "\n",
    "%cd $DATA_DIR/train\n",
    "%mkdir cats\n",
    "%mkdir dogs\n",
    "%mv cat.*.jpg cats/\n",
    "%mv dog.*.jpg dogs/"
   ]
  },
  {
   "cell_type": "code",
   "execution_count": 18,
   "metadata": {
    "collapsed": false
   },
   "outputs": [
    {
     "name": "stdout",
     "output_type": "stream",
     "text": [
      "/home/ubuntu/git/courses/deeplearning1/nbs/data/redux_from_scratch/test\n"
     ]
    }
   ],
   "source": [
    "# Create single 'unknown' class for test set\n",
    "%cd $DATA_DIR/test\n",
    "%mv *.jpg unknown/"
   ]
  },
  {
   "cell_type": "code",
   "execution_count": 20,
   "metadata": {
    "collapsed": false
   },
   "outputs": [
    {
     "name": "stdout",
     "output_type": "stream",
     "text": [
      "/home/ubuntu/git/courses/deeplearning1/nbs/data/redux_from_scratch\n",
      "\u001b[01;34m.\u001b[00m\r\n",
      "|-- \u001b[01;34mresults\u001b[00m\r\n",
      "|-- \u001b[01;34msample\u001b[00m\r\n",
      "|   |-- \u001b[01;34mresults\u001b[00m\r\n",
      "|   |-- \u001b[01;34mtest\u001b[00m\r\n",
      "|   |-- \u001b[01;34mtrain\u001b[00m\r\n",
      "|   |   |-- \u001b[01;34mcats\u001b[00m\r\n",
      "|   |   `-- \u001b[01;34mdogs\u001b[00m\r\n",
      "|   `-- \u001b[01;34mvalid\u001b[00m\r\n",
      "|       |-- \u001b[01;34mcats\u001b[00m\r\n",
      "|       `-- \u001b[01;34mdogs\u001b[00m\r\n",
      "|-- \u001b[01;34mtest\u001b[00m\r\n",
      "|   `-- \u001b[01;34munknown\u001b[00m\r\n",
      "|-- \u001b[01;34mtrain\u001b[00m\r\n",
      "|   |-- \u001b[01;34mcats\u001b[00m\r\n",
      "|   `-- \u001b[01;34mdogs\u001b[00m\r\n",
      "`-- \u001b[01;34mvalid\u001b[00m\r\n",
      "    |-- \u001b[01;34mcats\u001b[00m\r\n",
      "    `-- \u001b[01;34mdogs\u001b[00m\r\n",
      "\r\n",
      "18 directories\r\n"
     ]
    }
   ],
   "source": [
    "%cd $DATA_DIR\n",
    "%tree -d"
   ]
  },
  {
   "cell_type": "markdown",
   "metadata": {},
   "source": [
    "Todo\n",
    "\n",
    "* train model using Vgg lib\n",
    "* generate predictions\n",
    "* debug predictions\n",
    "* submit"
   ]
  },
  {
   "cell_type": "markdown",
   "metadata": {},
   "source": [
    "# Train model\n",
    "\n",
    "TODO : start kernel below as files are already structured"
   ]
  },
  {
   "cell_type": "code",
   "execution_count": 3,
   "metadata": {
    "collapsed": false
   },
   "outputs": [
    {
     "name": "stderr",
     "output_type": "stream",
     "text": [
      "Using Theano backend.\n",
      "Using gpu device 0: Tesla K80 (CNMeM is disabled, cuDNN 5103)\n",
      "/home/ubuntu/anaconda2/lib/python2.7/site-packages/theano/sandbox/cuda/__init__.py:600: UserWarning: Your cuDNN version is more recent than the one Theano officially supports. If you see any problems, try updating Theano or downgrading cuDNN to version 5.\n",
      "  warnings.warn(warn)\n"
     ]
    }
   ],
   "source": [
    "from keras.models import Sequential\n",
    "from keras.layers.convolutional import Convolution2D, MaxPooling2D, ZeroPadding2D\n",
    "from keras.layers.core import Flatten, Dense, Dropout, Lambda\n",
    "from keras.utils.data_utils import get_file\n",
    "from keras.preprocessing.image import ImageDataGenerator\n",
    "from keras.optimizers import  Adam\n",
    "\n"
   ]
  },
  {
   "cell_type": "markdown",
   "metadata": {},
   "source": [
    "## Create model layers structure"
   ]
  },
  {
   "cell_type": "code",
   "execution_count": 4,
   "metadata": {
    "collapsed": false
   },
   "outputs": [],
   "source": [
    "def vgg_preprocess(x):\n",
    "    #substract the mean RGB value, that was computed previously and hardcoded below\n",
    "    #TODO : understand the line below\n",
    "    x = x - np.array([123.68, 116.779, 103.939], dtype=np.float32).reshape(3,1,1)\n",
    "    return x[:, ::-1]\n",
    "    \n",
    "\n",
    "model = Sequential()\n",
    "# FROM THE DOC : \n",
    "# the first layer in a  Sequential model (and only the first, because \n",
    "# following layers can do automatic shape inference) needs to receive \n",
    "# information about its input shape\n",
    "model.add(Lambda(vgg_preprocess, input_shape=(3, 224, 224), output_shape=(3, 224, 224)))\n",
    "\n",
    "model.add(ZeroPadding2D((1,1)))\n",
    "model.add(Convolution2D(64, 3, 3, activation = 'relu'))\n",
    "\n",
    "model.add(ZeroPadding2D((1,1)))\n",
    "model.add(Convolution2D(64, 3, 3, activation = 'relu'))\n",
    "\n",
    "model.add(MaxPooling2D((2,2), strides=(2,2)))\n",
    "\n",
    "model.add(ZeroPadding2D((1,1)))\n",
    "model.add(Convolution2D(128, 3, 3, activation = 'relu'))\n",
    "\n",
    "model.add(ZeroPadding2D((1,1)))\n",
    "model.add(Convolution2D(128, 3, 3, activation = 'relu'))\n",
    "\n",
    "model.add(MaxPooling2D((2,2), strides=(2,2)))\n",
    "\n",
    "model.add(ZeroPadding2D((1,1)))\n",
    "model.add(Convolution2D(256, 3, 3, activation = 'relu'))\n",
    "\n",
    "model.add(ZeroPadding2D((1,1)))\n",
    "model.add(Convolution2D(256, 3, 3, activation = 'relu'))\n",
    "\n",
    "model.add(ZeroPadding2D((1,1)))\n",
    "model.add(Convolution2D(256, 3, 3, activation = 'relu'))\n",
    "\n",
    "model.add(MaxPooling2D((2,2), strides=(2,2)))\n",
    "\n",
    "\n",
    "model.add(ZeroPadding2D((1,1)))\n",
    "model.add(Convolution2D(512, 3, 3, activation = 'relu'))\n",
    "\n",
    "model.add(ZeroPadding2D((1,1)))\n",
    "model.add(Convolution2D(512, 3, 3, activation = 'relu'))\n",
    "\n",
    "model.add(ZeroPadding2D((1,1)))\n",
    "model.add(Convolution2D(512, 3, 3, activation = 'relu'))\n",
    "\n",
    "model.add(MaxPooling2D((2,2), strides=(2,2)))\n",
    "\n",
    "model.add(ZeroPadding2D((1,1)))\n",
    "model.add(Convolution2D(512, 3, 3, activation = 'relu'))\n",
    "\n",
    "model.add(ZeroPadding2D((1,1)))\n",
    "model.add(Convolution2D(512, 3, 3, activation = 'relu'))\n",
    "\n",
    "model.add(ZeroPadding2D((1,1)))\n",
    "model.add(Convolution2D(512, 3, 3, activation = 'relu'))\n",
    "\n",
    "model.add(MaxPooling2D((2,2), strides=(2,2)))\n",
    "\n",
    "model.add(Flatten())\n",
    "\n",
    "model.add(Dense(4096, activation='relu'))\n",
    "model.add(Dropout(0.5))\n",
    "\n",
    "model.add(Dense(4096, activation='relu'))\n",
    "model.add(Dropout(0.5))\n",
    "\n",
    "model.add(Dense(1000, activation='softmax'))\n",
    "\n"
   ]
  },
  {
   "cell_type": "markdown",
   "metadata": {},
   "source": [
    "## Load weights into model"
   ]
  },
  {
   "cell_type": "code",
   "execution_count": 5,
   "metadata": {
    "collapsed": false
   },
   "outputs": [],
   "source": [
    "filename = 'vgg16.h5'\n",
    "model.load_weights(get_file(filename, 'http://files.fast.ai/models/' + filename, cache_subdir='models'))\n"
   ]
  },
  {
   "cell_type": "markdown",
   "metadata": {},
   "source": [
    "## Feed training data to the model"
   ]
  },
  {
   "cell_type": "code",
   "execution_count": 6,
   "metadata": {
    "collapsed": false
   },
   "outputs": [
    {
     "name": "stdout",
     "output_type": "stream",
     "text": [
      "Found 22250 images belonging to 2 classes.\n",
      "Found 2500 images belonging to 2 classes.\n"
     ]
    }
   ],
   "source": [
    "# root_dir = DATA_DIR + '/sample'\n",
    "root_dir = DATA_DIR\n",
    "batch_size = 64\n",
    "\n",
    "train_gen = ImageDataGenerator()\n",
    "train_generator = train_gen.flow_from_directory(root_dir+ '/train', target_size=(224,224), batch_size=batch_size)\n",
    "\n",
    "valid_gen = ImageDataGenerator()\n",
    "valid_generator = valid_gen.flow_from_directory(root_dir+ '/valid', target_size=(224,224), batch_size=batch_size * 2)\n",
    "\n",
    "# TODO : why not same batch_size ?"
   ]
  },
  {
   "cell_type": "code",
   "execution_count": 7,
   "metadata": {
    "collapsed": false
   },
   "outputs": [],
   "source": [
    "#Finetune model, ie change last layer to 2 classes (dogs/cat)\n",
    "model.pop()\n",
    "for layer in model.layers: layer.trainable=False\n",
    "model.add(Dense(train_generator.nb_class, activation='softmax'))\n",
    "\n",
    "model.compile(optimizer=Adam(lr=0.001), loss='categorical_crossentropy', metrics=['accuracy'])\n",
    "\n",
    "classes = list(iter(train_generator.class_indices))\n",
    "\n",
    "for c in train_generator.class_indices:\n",
    "    classes[train_generator.class_indices[c]] = c\n",
    "model.classes = classes"
   ]
  },
  {
   "cell_type": "code",
   "execution_count": 9,
   "metadata": {
    "collapsed": false
   },
   "outputs": [
    {
     "data": {
      "text/plain": [
       "['cats', 'dogs']"
      ]
     },
     "execution_count": 9,
     "metadata": {},
     "output_type": "execute_result"
    }
   ],
   "source": [
    "model.classes"
   ]
  },
  {
   "cell_type": "code",
   "execution_count": 8,
   "metadata": {
    "collapsed": false
   },
   "outputs": [
    {
     "name": "stdout",
     "output_type": "stream",
     "text": [
      "Epoch 1/1\n",
      "22250/22250 [==============================] - 655s - loss: 0.1232 - acc: 0.9683 - val_loss: 0.0486 - val_acc: 0.9816\n"
     ]
    },
    {
     "data": {
      "text/plain": [
       "<keras.callbacks.History at 0x7f142f22f510>"
      ]
     },
     "execution_count": 8,
     "metadata": {},
     "output_type": "execute_result"
    }
   ],
   "source": [
    "model.fit_generator(train_generator, validation_data = valid_generator, nb_epoch = 1, samples_per_epoch = train_generator.nb_sample, nb_val_samples=valid_generator.nb_sample)"
   ]
  },
  {
   "cell_type": "markdown",
   "metadata": {},
   "source": [
    "Todo : \n",
    "\n",
    "- generate predictions\n",
    "- validate predictions"
   ]
  },
  {
   "cell_type": "code",
   "execution_count": 9,
   "metadata": {
    "collapsed": true
   },
   "outputs": [],
   "source": [
    "probs = model.predict_generator(valid_generator, valid_generator.nb_sample)\n",
    "our_predictions = probs[:,0]\n",
    "our_labels = np.round(1-our_predictions)"
   ]
  },
  {
   "cell_type": "code",
   "execution_count": 103,
   "metadata": {
    "collapsed": false
   },
   "outputs": [
    {
     "data": {
      "text/plain": [
       "1245"
      ]
     },
     "execution_count": 103,
     "metadata": {},
     "output_type": "execute_result"
    }
   ],
   "source": [
    "from IPython.display import Image\n",
    "\n",
    "expected_labels = valid_generator.classes\n",
    "selection = np.where(our_labels==expected_labels)[0]\n",
    "correct_image = valid_generator.filenames[selection[1]]\n",
    "Image(root_dir+ '/valid/' + correct_image)\n",
    "len(selection)"
   ]
  },
  {
   "cell_type": "code",
   "execution_count": null,
   "metadata": {
    "collapsed": true
   },
   "outputs": [],
   "source": [
    "from sklearn.metrics import confusion_matrix\n",
    "cm = confusion_matrix(expected_labels, our_labels)"
   ]
  },
  {
   "cell_type": "markdown",
   "metadata": {},
   "source": [
    "## Generate predictions"
   ]
  },
  {
   "cell_type": "code",
   "execution_count": 47,
   "metadata": {
    "collapsed": false
   },
   "outputs": [
    {
     "name": "stdout",
     "output_type": "stream",
     "text": [
      "Found 12500 images belonging to 1 classes.\n"
     ]
    }
   ],
   "source": [
    "test_gen = ImageDataGenerator()\n",
    "test_generator = train_gen.flow_from_directory(root_dir+ '/test', target_size=(224,224), batch_size=batch_size)\n",
    "prediction_filenames = test_generator.filenames\n",
    "prediction_labels = model.predict_generator(test_generator, test_generator.nb_sample)\n"
   ]
  },
  {
   "cell_type": "code",
   "execution_count": 87,
   "metadata": {
    "collapsed": false
   },
   "outputs": [],
   "source": [
    "isdog = prediction_labels[:,1]\n",
    "isdog = isdog.clip(min=0.01, max=0.99)"
   ]
  },
  {
   "cell_type": "code",
   "execution_count": 94,
   "metadata": {
    "collapsed": false
   },
   "outputs": [],
   "source": [
    "ids = np.array([int(f[8:f.find('.')]) for f in prediction_filenames])\n",
    "subm = np.stack([ids, isdog], axis=1)"
   ]
  },
  {
   "cell_type": "code",
   "execution_count": null,
   "metadata": {
    "collapsed": true
   },
   "outputs": [],
   "source": []
  },
  {
   "cell_type": "code",
   "execution_count": null,
   "metadata": {
    "collapsed": true
   },
   "outputs": [],
   "source": []
  },
  {
   "cell_type": "code",
   "execution_count": 95,
   "metadata": {
    "collapsed": false
   },
   "outputs": [
    {
     "name": "stdout",
     "output_type": "stream",
     "text": [
      "/home/ubuntu/git/courses/deeplearning1/nbs/data/redux_from_scratch\n"
     ]
    }
   ],
   "source": [
    "%cd $DATA_DIR\n",
    "np.savetxt('submission1.csv', subm, fmt='%d, %.5f', header='id,label', comments='')"
   ]
  },
  {
   "cell_type": "code",
   "execution_count": 96,
   "metadata": {
    "collapsed": false
   },
   "outputs": [
    {
     "name": "stdout",
     "output_type": "stream",
     "text": [
      "/home/ubuntu/git/courses/deeplearning1/nbs\n"
     ]
    },
    {
     "data": {
      "text/html": [
       "<a href='data/redux_from_scratch/submission1.csv' target='_blank'>data/redux_from_scratch/submission1.csv</a><br>"
      ],
      "text/plain": [
       "/home/ubuntu/git/courses/deeplearning1/nbs/data/redux_from_scratch/submission1.csv"
      ]
     },
     "execution_count": 96,
     "metadata": {},
     "output_type": "execute_result"
    }
   ],
   "source": [
    "from IPython.display import FileLink\n",
    "%cd $HOME_DIR\n",
    "FileLink('data/redux_from_scratch/submission1.csv')"
   ]
  },
  {
   "cell_type": "code",
   "execution_count": 86,
   "metadata": {
    "collapsed": false
   },
   "outputs": [
    {
     "data": {
      "image/jpeg": "[encoded data removed]",
      "text/plain": [
       "<IPython.core.display.Image object>"
      ]
     },
     "execution_count": 86,
     "metadata": {},
     "output_type": "execute_result"
    }
   ],
   "source": [
    "Image(root_dir+ '/test/unknown/8553.jpg') "
   ]
  },
  {
   "cell_type": "markdown",
   "metadata": {},
   "source": [
    "Il doit y avoir une erreur quelque part car le score Kaggle est très faible pour cette solution"
   ]
  }
 ],
 "metadata": {
  "anaconda-cloud": {},
  "kernelspec": {
   "display_name": "Python [default]",
   "language": "python",
   "name": "python2"
  },
  "language_info": {
   "codemirror_mode": {
    "name": "ipython",
    "version": 2
   },
   "file_extension": ".py",
   "mimetype": "text/x-python",
   "name": "python",
   "nbconvert_exporter": "python",
   "pygments_lexer": "ipython2",
   "version": "2.7.12"
  }
 },
 "nbformat": 4,
 "nbformat_minor": 1
}
