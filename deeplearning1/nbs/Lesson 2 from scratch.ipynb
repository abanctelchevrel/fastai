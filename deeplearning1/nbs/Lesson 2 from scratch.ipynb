{
 "cells": [
  {
   "cell_type": "markdown",
   "metadata": {},
   "source": [
    "## Generate data from a linear function"
   ]
  },
  {
   "cell_type": "code",
   "execution_count": 57,
   "metadata": {
    "collapsed": false
   },
   "outputs": [
    {
     "name": "stdout",
     "output_type": "stream",
     "text": [
      "Epoch 1/10\n",
      "30/30 [==============================] - 0s - loss: 1.4948     \n",
      "Epoch 2/10\n",
      "30/30 [==============================] - 0s - loss: 0.1775     \n",
      "Epoch 3/10\n",
      "30/30 [==============================] - 0s - loss: 0.0874     \n",
      "Epoch 4/10\n",
      "30/30 [==============================] - 0s - loss: 0.0472     \n",
      "Epoch 5/10\n",
      "30/30 [==============================] - 0s - loss: 0.0330     \n",
      "Epoch 6/10\n",
      "30/30 [==============================] - 0s - loss: 0.0166     \n",
      "Epoch 7/10\n",
      "30/30 [==============================] - 0s - loss: 0.0099     \n",
      "Epoch 8/10\n",
      "30/30 [==============================] - 0s - loss: 0.0048     \n",
      "Epoch 9/10\n",
      "30/30 [==============================] - 0s - loss: 0.0029     \n",
      "Epoch 10/10\n",
      "30/30 [==============================] - 0s - loss: 0.0015     \n",
      "30/30 [==============================] - 0s\n"
     ]
    },
    {
     "data": {
      "text/plain": [
       "[array([[ 2.88389421],\n",
       "        [ 1.95605254]], dtype=float32), array([ 1.08499658], dtype=float32)]"
      ]
     },
     "execution_count": 57,
     "metadata": {},
     "output_type": "execute_result"
    }
   ],
   "source": [
    "import numpy as np\n",
    "import keras\n",
    "\n",
    "from keras.models import Sequential\n",
    "from keras.layers.core import Dense\n",
    "from keras.optimizers import SGD\n",
    "\n",
    "x = numpy.random.random((30,2))\n",
    "y = np.dot(x, [3.,2.])+1\n",
    "\n",
    "lm = Sequential()\n",
    "# Todo : try other inout shape to understand the param\n",
    "lm.add(Dense(1, input_shape=(2,)))\n",
    "lm.compile(loss='mse', optimizer=SGD(lr=0.1))\n",
    "\n",
    "# lm.evaluate(x, y)\n",
    "\n",
    "lm.fit(x,y,1)\n",
    "lm.evaluate(x, y)\n",
    "\n",
    "lm.get_weights()\n"
   ]
  }
 ],
 "metadata": {
  "anaconda-cloud": {},
  "kernelspec": {
   "display_name": "Python [default]",
   "language": "python",
   "name": "python2"
  },
  "language_info": {
   "codemirror_mode": {
    "name": "ipython",
    "version": 2
   },
   "file_extension": ".py",
   "mimetype": "text/x-python",
   "name": "python",
   "nbconvert_exporter": "python",
   "pygments_lexer": "ipython2",
   "version": "2.7.12"
  }
 },
 "nbformat": 4,
 "nbformat_minor": 1
}
