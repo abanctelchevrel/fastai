{
 "cells": [
  {
   "cell_type": "code",
   "execution_count": 12,
   "metadata": {
    "collapsed": false
   },
   "outputs": [],
   "source": [
    "import numpy as np\n",
    "import keras as keras"
   ]
  },
  {
   "cell_type": "code",
   "execution_count": 142,
   "metadata": {
    "collapsed": false
   },
   "outputs": [],
   "source": [
    "randomPoints = np.random.rand(500,2)\n",
    "def poly(point):\n",
    "    return 3 * point[0] + 2 * point[1] + 5\n",
    "\n",
    "data = np.apply_along_axis(poly, 1, randomPoints)"
   ]
  },
  {
   "cell_type": "code",
   "execution_count": null,
   "metadata": {
    "collapsed": true
   },
   "outputs": [],
   "source": []
  },
  {
   "cell_type": "code",
   "execution_count": 143,
   "metadata": {
    "collapsed": false
   },
   "outputs": [],
   "source": [
    "from keras.models import Sequential\n",
    "from keras.layers import Dense\n",
    "\n",
    "model = Sequential()\n",
    "denseL = Dense(1, input_shape=(2,))\n",
    "model.add(denseL)\n",
    "\n",
    "model.compile(optimizer='sgd',loss='mean_squared_error')\n",
    "\n"
   ]
  },
  {
   "cell_type": "code",
   "execution_count": null,
   "metadata": {
    "collapsed": false
   },
   "outputs": [],
   "source": []
  },
  {
   "cell_type": "code",
   "execution_count": 148,
   "metadata": {
    "collapsed": false
   },
   "outputs": [
    {
     "name": "stdout",
     "output_type": "stream",
     "text": [
      "Epoch 1/10\n",
      "500/500 [==============================] - 0s - loss: 0.0017     \n",
      "Epoch 2/10\n",
      "500/500 [==============================] - 0s - loss: 0.0017     \n",
      "Epoch 3/10\n",
      "500/500 [==============================] - 0s - loss: 0.0016     \n",
      "Epoch 4/10\n",
      "500/500 [==============================] - 0s - loss: 0.0016     \n",
      "Epoch 5/10\n",
      "500/500 [==============================] - 0s - loss: 0.0015     \n",
      "Epoch 6/10\n",
      "500/500 [==============================] - 0s - loss: 0.0014     \n",
      "Epoch 7/10\n",
      "500/500 [==============================] - 0s - loss: 0.0014     \n",
      "Epoch 8/10\n",
      "500/500 [==============================] - 0s - loss: 0.0013     \n",
      "Epoch 9/10\n",
      "500/500 [==============================] - 0s - loss: 0.0013     \n",
      "Epoch 10/10\n",
      "500/500 [==============================] - 0s - loss: 0.0013     \n"
     ]
    },
    {
     "data": {
      "text/plain": [
       "[array([[ 3.11256647],\n",
       "        [ 2.04896116]], dtype=float32), array([ 4.9151597], dtype=float32)]"
      ]
     },
     "execution_count": 148,
     "metadata": {},
     "output_type": "execute_result"
    }
   ],
   "source": [
    "model.fit(randomPoints, data)\n",
    "denseL.get_weights()"
   ]
  },
  {
   "cell_type": "code",
   "execution_count": 61,
   "metadata": {
    "collapsed": false
   },
   "outputs": [
    {
     "data": {
      "text/plain": [
       "[array([[ 2.92122817]], dtype=float32), array([ 2.04148483], dtype=float32)]"
      ]
     },
     "execution_count": 61,
     "metadata": {},
     "output_type": "execute_result"
    }
   ],
   "source": [
    "denseL.get_weights()"
   ]
  },
  {
   "cell_type": "code",
   "execution_count": null,
   "metadata": {
    "collapsed": false
   },
   "outputs": [],
   "source": []
  }
 ],
 "metadata": {
  "anaconda-cloud": {},
  "kernelspec": {
   "display_name": "Python [default]",
   "language": "python",
   "name": "python2"
  },
  "language_info": {
   "codemirror_mode": {
    "name": "ipython",
    "version": 2
   },
   "file_extension": ".py",
   "mimetype": "text/x-python",
   "name": "python",
   "nbconvert_exporter": "python",
   "pygments_lexer": "ipython2",
   "version": "2.7.12"
  }
 },
 "nbformat": 4,
 "nbformat_minor": 1
}
